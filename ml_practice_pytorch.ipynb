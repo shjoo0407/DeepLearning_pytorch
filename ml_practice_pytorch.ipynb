{
  "nbformat": 4,
  "nbformat_minor": 0,
  "metadata": {
    "colab": {
      "provenance": []
    },
    "kernelspec": {
      "name": "python3",
      "display_name": "Python 3"
    },
    "language_info": {
      "name": "python"
    },
    "accelerator": "GPU",
    "gpuClass": "standard"
  },
  "cells": [
    {
      "cell_type": "code",
      "execution_count": 1,
      "metadata": {
        "colab": {
          "base_uri": "https://localhost:8080/"
        },
        "id": "DnYuuPuGtMTp",
        "outputId": "558fd8df-0e18-4ed0-ea4b-e7e0fec52ece"
      },
      "outputs": [
        {
          "output_type": "stream",
          "name": "stdout",
          "text": [
            "Looking in indexes: https://pypi.org/simple, https://us-python.pkg.dev/colab-wheels/public/simple/\n",
            "Requirement already satisfied: torch in /usr/local/lib/python3.9/dist-packages (1.13.1+cu116)\n",
            "Requirement already satisfied: typing-extensions in /usr/local/lib/python3.9/dist-packages (from torch) (4.5.0)\n",
            "Looking in indexes: https://pypi.org/simple, https://us-python.pkg.dev/colab-wheels/public/simple/\n",
            "Requirement already satisfied: torchvision in /usr/local/lib/python3.9/dist-packages (0.14.1+cu116)\n",
            "Requirement already satisfied: numpy in /usr/local/lib/python3.9/dist-packages (from torchvision) (1.22.4)\n",
            "Requirement already satisfied: pillow!=8.3.*,>=5.3.0 in /usr/local/lib/python3.9/dist-packages (from torchvision) (8.4.0)\n",
            "Requirement already satisfied: requests in /usr/local/lib/python3.9/dist-packages (from torchvision) (2.27.1)\n",
            "Requirement already satisfied: typing-extensions in /usr/local/lib/python3.9/dist-packages (from torchvision) (4.5.0)\n",
            "Requirement already satisfied: torch==1.13.1 in /usr/local/lib/python3.9/dist-packages (from torchvision) (1.13.1+cu116)\n",
            "Requirement already satisfied: urllib3<1.27,>=1.21.1 in /usr/local/lib/python3.9/dist-packages (from requests->torchvision) (1.26.15)\n",
            "Requirement already satisfied: idna<4,>=2.5 in /usr/local/lib/python3.9/dist-packages (from requests->torchvision) (3.4)\n",
            "Requirement already satisfied: certifi>=2017.4.17 in /usr/local/lib/python3.9/dist-packages (from requests->torchvision) (2022.12.7)\n",
            "Requirement already satisfied: charset-normalizer~=2.0.0 in /usr/local/lib/python3.9/dist-packages (from requests->torchvision) (2.0.12)\n"
          ]
        }
      ],
      "source": [
        "!pip install torch\n",
        "!pip install torchvision\n"
      ]
    },
    {
      "cell_type": "code",
      "source": [
        "import numpy as np\n",
        "import pandas as pd\n",
        "import torch\n",
        "import torch.nn as nn\n",
        "from sklearn import metrics\n",
        "from sklearn.datasets import fetch_openml\n",
        "\n",
        "device = torch.device(\"cuda\" if torch.cuda.is_available() else \"cpu\")\n",
        "\n",
        "mnist = fetch_openml('mnist_784')\n",
        "mnist.data.shape, mnist.target.shape\n"
      ],
      "metadata": {
        "colab": {
          "base_uri": "https://localhost:8080/"
        },
        "id": "zJmNpeh_64A3",
        "outputId": "5882b974-f8f2-4cd4-b914-5f64fc913505"
      },
      "execution_count": 2,
      "outputs": [
        {
          "output_type": "stream",
          "name": "stderr",
          "text": [
            "/usr/local/lib/python3.9/dist-packages/sklearn/datasets/_openml.py:968: FutureWarning: The default value of `parser` will change from `'liac-arff'` to `'auto'` in 1.4. You can set `parser='auto'` to silence this warning. Therefore, an `ImportError` will be raised from 1.4 if the dataset is dense and pandas is not installed. Note that the pandas parser may return different data types. See the Notes Section in fetch_openml's API doc for details.\n",
            "  warn(\n"
          ]
        },
        {
          "output_type": "execute_result",
          "data": {
            "text/plain": [
              "((70000, 784), (70000,))"
            ]
          },
          "metadata": {},
          "execution_count": 2
        }
      ]
    },
    {
      "cell_type": "code",
      "source": [
        "x_data = mnist.data\n",
        "y_data = mnist.target.astype(int)\n",
        "\n"
      ],
      "metadata": {
        "id": "74XltClbGgmX"
      },
      "execution_count": 3,
      "outputs": []
    },
    {
      "cell_type": "code",
      "source": [
        "from sklearn.model_selection import train_test_split\n",
        "\n",
        "device = 'cuda'\n",
        "X_train,X_test,y_train,y_test = train_test_split(x_data, y_data, test_size=0.20, random_state=42)\n",
        "X_train,X_test = torch.Tensor(X_train.values),torch.Tensor(X_test.values)\n",
        "y_train, y_test = torch.Tensor(y_train.values),torch.Tensor(y_test.values)\n",
        "X_train = X_train.to(device)\n",
        "X_test = X_test.to(device)\n",
        "y_train = y_train.to(device)\n",
        "y_test = y_test.to(device)\n",
        "\n",
        "print(X_train.shape)\n",
        "print(X_test.shape)\n",
        "print(y_train.shape)\n",
        "print(y_test.shape)"
      ],
      "metadata": {
        "colab": {
          "base_uri": "https://localhost:8080/"
        },
        "id": "FBHBuwoSahSr",
        "outputId": "32a1b94e-6dd2-4faa-9485-3a6cb02c9325"
      },
      "execution_count": 4,
      "outputs": [
        {
          "output_type": "stream",
          "name": "stdout",
          "text": [
            "torch.Size([56000, 784])\n",
            "torch.Size([14000, 784])\n",
            "torch.Size([56000])\n",
            "torch.Size([14000])\n"
          ]
        }
      ]
    },
    {
      "cell_type": "code",
      "source": [
        "import torch\n",
        "class LogisticRegression(torch.nn.Module):\n",
        "  def __init__(self,input_dim,output_dim):\n",
        "    super(LogisticRegression, self).__init__()\n",
        "    self.linear= torch.nn.Linear(input_dim, output_dim)\n",
        "  def forward(self,x):\n",
        "    outputs = torch.sigmoid(self.linear(x))\n",
        "    return outputs\n",
        "    "
      ],
      "metadata": {
        "id": "C_9SA8UlbSt_"
      },
      "execution_count": 5,
      "outputs": []
    },
    {
      "cell_type": "code",
      "source": [
        "epochs = 10000\n",
        "input_dim = 784\n",
        "output_dim = 10\n",
        "lr = 0.001\n",
        "model = LogisticRegression(input_dim, output_dim)\n",
        "model = model.to(device)\n",
        "criterion = torch.nn.CrossEntropyLoss()\n",
        "optimizer= torch.optim.SGD(model.parameters(), lr=lr)"
      ],
      "metadata": {
        "id": "abyyucj4c3c_"
      },
      "execution_count": 6,
      "outputs": []
    },
    {
      "cell_type": "code",
      "source": [
        "import matplotlib.pyplot as plt\n",
        "%matplotlib inline\n",
        "\n",
        "train_losses = []\n",
        "test_losses = []\n",
        "\n",
        "for i in range(epochs):\n",
        "  # train\n",
        "  model.train()\n",
        "  train_output = model(X_train)\n",
        "  train_loss = criterion(train_output,y_train.long())\n",
        "\n",
        "  # test\n",
        "  model.eval()\n",
        "  test_output = model(X_test)\n",
        "  test_loss = criterion(test_output,y_test.long())\n",
        "\n",
        "  # 기록\n",
        "  if i % 10 == 0:\n",
        "    train_losses.append(train_loss.data)\n",
        "    test_losses.append(test_loss.data)\n",
        "  \n",
        "  # 출력 \n",
        "  if (i % 1000 == 0)&(i!=0):\n",
        "    print(\"=====\")\n",
        "    print('epoch',i)\n",
        "    _, pred = torch.max(train_output.data, axis=1)\n",
        "    print(\"train_accuracy {:0.3f}\".format(float((pred == y_train).sum())/y_train.size(0)))\n",
        "\n",
        "    with torch.no_grad():\n",
        "      _, pred = torch.max(test_output.data,axis=1)\n",
        "      print(\"test_accuracy {:0.3f}\".format(float((pred == y_test).sum())/y_test.size(0)))\n",
        "\n",
        "  # 갱신\n",
        "  optimizer.zero_grad()\n",
        "  train_loss.backward()\n",
        "  optimizer.step()\n",
        "\n"
      ],
      "metadata": {
        "id": "pzusyACmdN-0",
        "colab": {
          "base_uri": "https://localhost:8080/"
        },
        "outputId": "4f2de2f6-2f9d-4982-f3d6-32046e388c16"
      },
      "execution_count": 14,
      "outputs": [
        {
          "output_type": "stream",
          "name": "stdout",
          "text": [
            "=====\n",
            "epoch 1000\n",
            "train_accuracy 0.901\n",
            "test_accuracy 0.896\n",
            "=====\n",
            "epoch 2000\n",
            "train_accuracy 0.901\n",
            "test_accuracy 0.896\n",
            "=====\n",
            "epoch 3000\n",
            "train_accuracy 0.901\n",
            "test_accuracy 0.896\n",
            "=====\n",
            "epoch 4000\n",
            "train_accuracy 0.901\n",
            "test_accuracy 0.897\n",
            "=====\n",
            "epoch 5000\n",
            "train_accuracy 0.902\n",
            "test_accuracy 0.897\n",
            "=====\n",
            "epoch 6000\n",
            "train_accuracy 0.902\n",
            "test_accuracy 0.897\n",
            "=====\n",
            "epoch 7000\n",
            "train_accuracy 0.902\n",
            "test_accuracy 0.897\n",
            "=====\n",
            "epoch 8000\n",
            "train_accuracy 0.902\n",
            "test_accuracy 0.897\n",
            "=====\n",
            "epoch 9000\n",
            "train_accuracy 0.902\n",
            "test_accuracy 0.897\n"
          ]
        }
      ]
    },
    {
      "cell_type": "code",
      "source": [
        "# 10 epoch 마다 기록한 loss plot 으로 그리기\n",
        "\n",
        "plt.plot([e.to(\"cpu\") for e in train_losses],label='Train Loss')\n",
        "plt.plot([e.to(\"cpu\") for e in test_losses], label='Test Loss')\n",
        "plt.legend()\n",
        "\n"
      ],
      "metadata": {
        "colab": {
          "base_uri": "https://localhost:8080/",
          "height": 283
        },
        "id": "lC8vI8F-WfxQ",
        "outputId": "a527f7a5-7a31-4785-8341-0c3dd56f46ec"
      },
      "execution_count": 17,
      "outputs": [
        {
          "output_type": "execute_result",
          "data": {
            "text/plain": [
              "<matplotlib.legend.Legend at 0x7f17d8e2b220>"
            ]
          },
          "metadata": {},
          "execution_count": 17
        },
        {
          "output_type": "display_data",
          "data": {
            "text/plain": [
              "<Figure size 432x288 with 1 Axes>"
            ],
            "image/png": "[encoded data removed]"
          },
          "metadata": {
            "needs_background": "light"
          }
        }
      ]
    }
  ]
}